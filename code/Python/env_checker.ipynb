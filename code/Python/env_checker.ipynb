{
 "cells": [
  {
   "cell_type": "code",
   "execution_count": 1,
   "id": "43b778d3-e23e-4c23-8d41-e8acc2fb80f5",
   "metadata": {},
   "outputs": [
    {
     "data": {
      "text/plain": [
       "'1.23.2'"
      ]
     },
     "execution_count": 1,
     "metadata": {},
     "output_type": "execute_result"
    }
   ],
   "source": [
    "import numpy as np\n",
    "\n",
    "np.__version__"
   ]
  },
  {
   "cell_type": "code",
   "execution_count": 2,
   "id": "5be31f98-5187-485d-81e8-b6d9293c222d",
   "metadata": {},
   "outputs": [
    {
     "data": {
      "text/plain": [
       "'1.4.3'"
      ]
     },
     "execution_count": 2,
     "metadata": {},
     "output_type": "execute_result"
    }
   ],
   "source": [
    "import pandas as pd\n",
    "\n",
    "pd.__version__"
   ]
  },
  {
   "cell_type": "code",
   "execution_count": 3,
   "id": "0d015ac6-cbb2-4051-8783-ad6991d877fd",
   "metadata": {},
   "outputs": [
    {
     "data": {
      "text/plain": [
       "'3.2.0'"
      ]
     },
     "execution_count": 3,
     "metadata": {},
     "output_type": "execute_result"
    }
   ],
   "source": [
    "import pandas_profiling\n",
    "\n",
    "pandas_profiling.__version__"
   ]
  },
  {
   "cell_type": "code",
   "execution_count": 4,
   "id": "edd1ab67-6d68-4b1a-9d7b-62e2b26a2ca5",
   "metadata": {},
   "outputs": [
    {
     "data": {
      "text/plain": [
       "'3.0.10'"
      ]
     },
     "execution_count": 4,
     "metadata": {},
     "output_type": "execute_result"
    }
   ],
   "source": [
    "import openpyxl\n",
    "\n",
    "openpyxl.__version__"
   ]
  },
  {
   "cell_type": "code",
   "execution_count": 5,
   "id": "c6496b49-044c-48a6-841e-a8341bb44cee",
   "metadata": {},
   "outputs": [
    {
     "data": {
      "text/plain": [
       "'1.9.1'"
      ]
     },
     "execution_count": 5,
     "metadata": {},
     "output_type": "execute_result"
    }
   ],
   "source": [
    "import scipy\n",
    "\n",
    "scipy.__version__"
   ]
  },
  {
   "cell_type": "code",
   "execution_count": 6,
   "id": "1237b206-637d-46fb-ad1a-51ec6fe0a102",
   "metadata": {},
   "outputs": [
    {
     "data": {
      "text/plain": [
       "'0.13.2'"
      ]
     },
     "execution_count": 6,
     "metadata": {},
     "output_type": "execute_result"
    }
   ],
   "source": [
    "import statsmodels\n",
    "\n",
    "statsmodels.__version__"
   ]
  },
  {
   "cell_type": "code",
   "execution_count": 7,
   "id": "5c00c383-24e5-4f1d-b0ab-2ffef67f483d",
   "metadata": {},
   "outputs": [
    {
     "data": {
      "text/plain": [
       "'3.5.3'"
      ]
     },
     "execution_count": 7,
     "metadata": {},
     "output_type": "execute_result"
    }
   ],
   "source": [
    "import matplotlib\n",
    "\n",
    "%matplotlib inline\n",
    "\n",
    "matplotlib.__version__"
   ]
  },
  {
   "cell_type": "code",
   "execution_count": 8,
   "id": "ccf4e64e-23b9-495c-b5a7-efff7d0ea534",
   "metadata": {},
   "outputs": [
    {
     "data": {
      "text/plain": [
       "'0.11.2'"
      ]
     },
     "execution_count": 8,
     "metadata": {},
     "output_type": "execute_result"
    }
   ],
   "source": [
    "import seaborn as sns\n",
    "\n",
    "sns.__version__"
   ]
  },
  {
   "cell_type": "code",
   "execution_count": 9,
   "id": "8dbbcacb-85e2-4c01-9ac8-ea74acb7b8e4",
   "metadata": {},
   "outputs": [
    {
     "data": {
      "text/plain": [
       "'0.4.4'"
      ]
     },
     "execution_count": 9,
     "metadata": {},
     "output_type": "execute_result"
    }
   ],
   "source": [
    "import statannotations\n",
    "\n",
    "statannotations.__version__"
   ]
  },
  {
   "cell_type": "code",
   "execution_count": 10,
   "id": "97287380-6b79-4e3f-8fe3-470f997e4ef2",
   "metadata": {},
   "outputs": [
    {
     "name": "stdout",
     "output_type": "stream",
     "text": [
      "Alert! from version 0.1.43, after importing, you must do '%matplotlib inline' to display charts in Jupyter Notebooks.\n",
      "    AV = AutoViz_Class()\n",
      "    dfte = AV.AutoViz(filename, sep=',', depVar='', dfte=None, header=0, verbose=0, lowess=False,\n",
      "               chart_format='svg',max_rows_analyzed=150000,max_cols_analyzed=30, save_plot_dir=None)\n",
      "Note: verbose=0 or 1 generates charts and displays them in your local Jupyter notebook.\n",
      "      verbose=2 does not display plots but saves them in AutoViz_Plots folder in local machine.\n",
      "Updated: chart_format='bokeh' generates and displays charts in your local Jupyter notebook.\n",
      "      chart_format='server' generates and displays charts in the browser - one tab for each chart.\n",
      "      chart_format='html' silently saves charts HTML format - they are also interactive!\n"
     ]
    },
    {
     "data": {
      "text/plain": [
       "'0.1.43'"
      ]
     },
     "execution_count": 10,
     "metadata": {},
     "output_type": "execute_result"
    }
   ],
   "source": [
    "import autoviz\n",
    "\n",
    "autoviz.__version__"
   ]
  },
  {
   "cell_type": "code",
   "execution_count": 11,
   "id": "01274341-877b-4f22-8874-6ec2519abf20",
   "metadata": {},
   "outputs": [
    {
     "data": {
      "text/plain": [
       "'1.1.2'"
      ]
     },
     "execution_count": 11,
     "metadata": {},
     "output_type": "execute_result"
    }
   ],
   "source": [
    "import sklearn\n",
    "\n",
    "sklearn.__version__"
   ]
  },
  {
   "cell_type": "code",
   "execution_count": 12,
   "id": "e2d65e88-72a9-4d41-b8ac-c3f137d823d1",
   "metadata": {},
   "outputs": [
    {
     "data": {
      "text/plain": [
       "'0.12.1'"
      ]
     },
     "execution_count": 12,
     "metadata": {},
     "output_type": "execute_result"
    }
   ],
   "source": [
    "import arviz as az\n",
    "\n",
    "az.__version__"
   ]
  },
  {
   "cell_type": "code",
   "execution_count": 13,
   "id": "22b4bc46-179a-4ead-a226-ec1851825111",
   "metadata": {},
   "outputs": [
    {
     "data": {
      "text/plain": [
       "'0.3.16'"
      ]
     },
     "execution_count": 13,
     "metadata": {},
     "output_type": "execute_result"
    }
   ],
   "source": [
    "import jax\n",
    "\n",
    "jax.__version__"
   ]
  },
  {
   "cell_type": "code",
   "execution_count": 14,
   "id": "7073022c-171c-4cad-964c-09f078aaedb0",
   "metadata": {},
   "outputs": [
    {
     "data": {
      "text/plain": [
       "'0.10.0'"
      ]
     },
     "execution_count": 14,
     "metadata": {},
     "output_type": "execute_result"
    }
   ],
   "source": [
    "import numpyro\n",
    "\n",
    "numpyro.__version__"
   ]
  },
  {
   "cell_type": "code",
   "execution_count": 15,
   "id": "dbba4122-a480-4c0e-a77d-b5c6b42a75b9",
   "metadata": {},
   "outputs": [],
   "source": [
    "import stan"
   ]
  },
  {
   "cell_type": "code",
   "execution_count": 16,
   "id": "a4fd49e2-682a-4933-867b-d6d6c610917b",
   "metadata": {},
   "outputs": [
    {
     "data": {
      "text/plain": [
       "'0.8.0'"
      ]
     },
     "execution_count": 16,
     "metadata": {},
     "output_type": "execute_result"
    }
   ],
   "source": [
    "import anndata as ad\n",
    "\n",
    "ad.__version__"
   ]
  },
  {
   "cell_type": "code",
   "execution_count": 17,
   "id": "0a433fde-cf08-4cbb-b050-325679b6f78d",
   "metadata": {},
   "outputs": [
    {
     "data": {
      "text/plain": [
       "'2022.03.5'"
      ]
     },
     "execution_count": 17,
     "metadata": {},
     "output_type": "execute_result"
    }
   ],
   "source": [
    "import rdkit\n",
    "\n",
    "rdkit.__version__"
   ]
  },
  {
   "cell_type": "code",
   "execution_count": 18,
   "id": "4bf5ffdd-b723-4397-bcb5-4267807e1835",
   "metadata": {},
   "outputs": [
    {
     "data": {
      "text/plain": [
       "'8.0.1'"
      ]
     },
     "execution_count": 18,
     "metadata": {},
     "output_type": "execute_result"
    }
   ],
   "source": [
    "import ipywidgets as widgets\n",
    "\n",
    "widgets.__version__"
   ]
  },
  {
   "cell_type": "code",
   "execution_count": 19,
   "id": "0a1c913a-7d73-46df-b095-15ac09b5d7fb",
   "metadata": {},
   "outputs": [
    {
     "data": {
      "text/plain": [
       "'1.12.2'"
      ]
     },
     "execution_count": 19,
     "metadata": {},
     "output_type": "execute_result"
    }
   ],
   "source": [
    "import streamlit as st\n",
    "\n",
    "st.__version__"
   ]
  },
  {
   "cell_type": "code",
   "execution_count": 20,
   "id": "3b5062d4-091a-4a58-a6f9-8cfc1686dcc6",
   "metadata": {},
   "outputs": [],
   "source": [
    "!pip freeze > pip_freeze.txt"
   ]
  },
  {
   "cell_type": "code",
   "execution_count": 21,
   "id": "979cee44-cfc0-4baa-af9e-d40c268240e7",
   "metadata": {},
   "outputs": [],
   "source": [
    "!conda env export -n met > conda_freeze.yml"
   ]
  }
 ],
 "metadata": {
  "kernelspec": {
   "display_name": "Python 3 (ipykernel)",
   "language": "python",
   "name": "python3"
  },
  "language_info": {
   "codemirror_mode": {
    "name": "ipython",
    "version": 3
   },
   "file_extension": ".py",
   "mimetype": "text/x-python",
   "name": "python",
   "nbconvert_exporter": "python",
   "pygments_lexer": "ipython3",
   "version": "3.10.6"
  }
 },
 "nbformat": 4,
 "nbformat_minor": 5
}
